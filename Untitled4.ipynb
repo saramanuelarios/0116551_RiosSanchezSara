{
 "cells": [
  {
   "cell_type": "markdown",
   "metadata": {},
   "source": [
    "# TALLER 1\n"
   ]
  },
  {
   "cell_type": "markdown",
   "metadata": {},
   "source": [
    "## DECICIONES Y CICLOS"
   ]
  },
  {
   "cell_type": "markdown",
   "metadata": {},
   "source": [
    "1. Sin utilizar el comando abs, escribir un programa que calcule e imprima el valor absoluto de cualquier número (sea\n",
    "entero o decimal)."
   ]
  },
  {
   "cell_type": "code",
   "execution_count": null,
   "metadata": {},
   "outputs": [],
   "source": [
    "x=float(input(\"Ingrese un número:\"))    # la variable x corresponde a el numero, \n",
    "if x < 0:                               # al cual se debe sacar valor absoluto.\n",
    "    x1=x*-1              \n",
    "else:\n",
    "    x1=x\n",
    "    \n",
    "print(x1)"
   ]
  },
  {
   "cell_type": "markdown",
   "metadata": {},
   "source": [
    " 2. Leer un número entero y escribirlo en reversa. Por ejemplo, 461975 será 579164. No utilizar comandos de\n",
    "ordenamiento."
   ]
  },
  {
   "cell_type": "code",
   "execution_count": null,
   "metadata": {},
   "outputs": [],
   "source": [
    "A= int(input('Ingrese un número'))\n",
    "lis=[]                                # lista de digitos en reversa\n",
    "\n",
    "while A != 0:\n",
    "    \n",
    "    A1= A/10\n",
    "    Aa = abs(A1)\n",
    "    Ab = abs(int(A1))\n",
    "    B1 = Aa-Ab\n",
    "    B2 = round(B1*10,1)\n",
    "    B3 = int(B2)\n",
    "    A = int(A1)                        #num_entero lista convertida en cadena de texto\n",
    "    lis.append(B3)\n",
    "\n",
    "num_entero = \"\".join(str(x) for x in lis)\n",
    "print(num_entero) "
   ]
  },
  {
   "cell_type": "markdown",
   "metadata": {},
   "source": [
    "3. Leer un número entero de 3 dígitos y determinar si contiene el dígito 8.\n"
   ]
  },
  {
   "cell_type": "code",
   "execution_count": null,
   "metadata": {},
   "outputs": [],
   "source": [
    "num=int(input(\"Ingrese un número de tres dígitos = \"))\n",
    "if -999 <= num <= -100 or 100 <= num <= 999:\n",
    "            print(\"El número ingresado es correcto.\")\n",
    "            num1=abs(num)//100     \n",
    "            dig1=num1%10\n",
    "            num2=abs(num)//10\n",
    "            dig2=num2%10\n",
    "            dig3=abs(num)%10\n",
    "\n",
    "            x=[dig1,dig2,dig3]   \n",
    "\n",
    "            if 8 in x:\n",
    "                print(\"El número contiene el número 8\")\n",
    "            else:\n",
    "                print(\"El número no contiene el número 8\")  \n",
    "else:\n",
    "    print(\"El número es incorrecto. Inténtelo de nuevo\")"
   ]
  },
  {
   "cell_type": "markdown",
   "metadata": {},
   "source": [
    "4. Leer un número entero positivo y determinar la suma de sus dígitos pares. Por ejemplo, en el número 124, los dígitos\n",
    "pares son el 2 y el 4 y su suma vale 6."
   ]
  },
  {
   "cell_type": "code",
   "execution_count": null,
   "metadata": {},
   "outputs": [],
   "source": [
    "def suma_numeros_pares(x):\n",
    "    sum=0\n",
    "    while x>0:\n",
    "        residuo=int(x%10)    #residuo del número a un entero.\n",
    "        x=x/10               \n",
    "        if(residuo%2==0):    #divido entre 2 para optener la cifra par. \n",
    "            sum=sum+residuo  #suma los digitos pares.\n",
    "    return sum\n",
    "        \n",
    "while True:\n",
    "    try:\n",
    "        num=int(input(\"Escriba un número entero positivo = \"))\n",
    "        if num>=0:\n",
    "            print(\"El número es positivo\")\n",
    "            break\n",
    "        else:\n",
    "            print(\"El número ingresado no es positivo. Inténte de nuevo\")\n",
    "    except ValueError:\n",
    "        print(\"El caracter ingresado no es correcto. Inténtelo de nuevo\")\n",
    "sum=suma_numeros_pares(num)\n",
    "if sum>=0:\n",
    "    print(\"La suma de los digitos pares es\", sum)"
   ]
  },
  {
   "cell_type": "markdown",
   "metadata": {},
   "source": [
    "5. Leer un número entero y determinar el número de cincos que están consecutivos en un número. Por ejemplo, en\n",
    "5512355551 hay 6 cincos consecutivos. Ahora, en 234555234512 solo hay 3 cincos consecutivos."
   ]
  },
  {
   "cell_type": "code",
   "execution_count": null,
   "metadata": {},
   "outputs": [],
   "source": [
    "def contador_de_cincos(x):\n",
    "    con=0                 #contador de cincos consecutivos\n",
    "    while x>0:\n",
    "        dig1=x%10\n",
    "        x=x//10\n",
    "        dig2=x%10\n",
    "        if dig1==5 and dig2==5:\n",
    "            con+=2\n",
    "            num1=x//10\n",
    "            dig3=num1%10\n",
    "            if dig2==5 and dig3==5:\n",
    "                con+=1\n",
    "                if dig1==5 and dig3==5:\n",
    "                    con-=2\n",
    "    return con\n",
    "while True:\n",
    "    try:\n",
    "        num=int(input(\"Escriba un número entero que contenga varios cincos = \"))\n",
    "        if num<0:\n",
    "            num*=(-1)         #si el numero ingresado es negativo se multiplica por -1\n",
    "        break\n",
    "    except ValueError:\n",
    "        print(\"El caracter ingresado es incorrecto. Inténtelo de nuevo.\")\n",
    "\n",
    "con=contador_de_cincos(num)\n",
    "if con>0:\n",
    "    print(\"El número de cincos consecutivos es\",con,\".\")\n",
    "else:\n",
    "    print(\"El número ingresado NO contiene cincos consecutivos.\")"
   ]
  },
  {
   "cell_type": "markdown",
   "metadata": {},
   "source": [
    "6. Leer un número entero y determinar si la suma de sus dígitos es un número de Fibonacci."
   ]
  },
  {
   "cell_type": "code",
   "execution_count": null,
   "metadata": {},
   "outputs": [],
   "source": [
    "def suma_digitos(x):\n",
    "    cont=0\n",
    "    while x>0:               #suma los digitos de el numero ingresado\n",
    "        residuo=x%10             \n",
    "        x=x//10                  \n",
    "        if residuo>0:             \n",
    "            cont=cont+residuo\n",
    "    return cont\n",
    "\n",
    "def numero_fibonacci(x):\n",
    "    num1=0                     \n",
    "    num2=1\n",
    "    resultado=False\n",
    "    while(num1<=x):\n",
    "        if (num1==x):\n",
    "            resultado=True\n",
    "        suma=num1+num2\n",
    "        num1=num2\n",
    "        num2=suma\n",
    "    return resultado\n",
    "\n",
    "while True:\n",
    "    try:\n",
    "        num=int(input(\"Escriba un número entero = \"))\n",
    "        break\n",
    "    except ValueError:\n",
    "        print(\"El caracter ingresado es incorrecto.\")\n",
    "\n",
    "cont=suma_digitos(num)\n",
    "if cont<0:\n",
    "    cont=cont*(-1)\n",
    "    cont=suma_digitos(num)\n",
    "if cont<0:\n",
    "    cont=cont*(-1)\n",
    "\n",
    "resultado=numero_fibonacci(cont)\n",
    "if  resultado:\n",
    "    print(\"La suma de los dígitos del número ingresado es\",cont,\".\\n\\\n",
    "    Y el número\",cont,\" pertenece a la serie fibonacci.\")\n",
    "else:\n",
    "    print(\"La suma de los dígitos es el número\",cont,\"\\n\\\n",
    "el numero no pertenece a la serie fibonacci.\")"
   ]
  },
  {
   "cell_type": "markdown",
   "metadata": {},
   "source": [
    "7. Leer un número entero positivo y determine si existen en el número dígitos repetidos. Reporte cuales son los dígitos\n",
    "repetidos."
   ]
  },
  {
   "cell_type": "code",
   "execution_count": null,
   "metadata": {},
   "outputs": [],
   "source": [
    "def digitos_repetidos(x):\n",
    "    con0 = 0; con1 = 0; con2 = 0; con3 = 0; con4 = 0; con5 = 0; con6 = 0\n",
    "    con7 = 0; con8 = 0; con9 = 0         #repeticiones de los digitos\n",
    "    while x > 0:\n",
    "        res = x%10\n",
    "        x = x//10\n",
    "        if res==0: con0=con0+1\n",
    "        elif res==1: con1=con1+1\n",
    "        elif res==2: con2=con2+1\n",
    "        elif res==3: con3=con3+1\n",
    "        elif res==4: con4=con4+1\n",
    "        elif res==5: con5=con5+1\n",
    "        elif res==6: con6=con6+1\n",
    "        elif res==7: con7=con7+1\n",
    "        elif res==8: con8=con8+1\n",
    "        elif res==9: con9=con9+1\n",
    "    return con0,con1,con2,con3,con4,con5,con6,con7,con8,con9\n",
    "\n",
    "while True:\n",
    "    try:\n",
    "        num=int(input(\"Escriba un número entero positivo = \"))\n",
    "        if num>0:\n",
    "            break\n",
    "        else:\n",
    "            print(\"El número ingresado es incorrecto.\")\n",
    "    except ValueError:\n",
    "        print(\"El caracter ingresado es incorrecto.\")\n",
    "    \n",
    "con0,con1,con2,con3,con4,con5,con6,con7,con8,con9=digitos_repetidos(num)\n",
    "if num>0: print(\"El número se repite en el número ingresado:\\n0:\",con0,\"\\\n",
    "veces\\n1:\",con1,\"veces\\n2:\",con2,\"veces\\n3:\",con3,\"veces\\n4:\",con4,\"veces\\\n",
    "\\n5:\",con5,\"veces\\n6:\",con6,\"veces\\n7:\",con7,\"veces\\n8:\",con8,\"veces\\\n",
    "\\n9:\",con9,\"veces\")"
   ]
  },
  {
   "cell_type": "markdown",
   "metadata": {},
   "source": [
    "8. Iterar a través de los primeros cien enteros positivos, buscando los múltiplos de 3 e imprimiendo y almacenándolos en\n",
    "una lista hasta encontrar los primeros 15 de ellos. Una vez encontrados, continuar iterando en busca de los múltiplos\n",
    "de 4 y almacenarlos en otra lista."
   ]
  },
  {
   "cell_type": "code",
   "execution_count": null,
   "metadata": {},
   "outputs": [],
   "source": [
    "suma_3 = 0              #determina cuantos multiplos de 3 van en el primer ciclo if\n",
    "lis_3 = list()          #numero de multiplos de 3\n",
    "lis_4 = list()          # numero de multiplos de 4\n",
    "\n",
    "print('multiplos de 3')\n",
    "for i in range(1,101):\n",
    "    if i%3==0:\n",
    "        suma_3+=1\n",
    "        print(i)\n",
    "        lis_3.append(i)\n",
    "        if suma_3==15:break\n",
    "    \n",
    "print('multiplos de 4')\n",
    "for n in range(i,101):\n",
    "    if n%4==0:\n",
    "        print(n)\n",
    "        lis_4.append(n)\n",
    "        "
   ]
  },
  {
   "cell_type": "markdown",
   "metadata": {},
   "source": [
    "9. Hacer un programa que lea las coordenadas (x1,y1,r1) y (x2,y2,r2) que corresponden al centro y al radio de dos círculos.\n",
    "Lea un punto de coordenadas (a,b). Determina si (a,b) está contenido: a) dentro del círculo 1; b) dentro del círculo 2;\n",
    "c) dentro de ambos círculos; d) fuera de ambos círculos. Recordemos que el círculo es el lugar geométrico de los puntos\n",
    "del plano cuya distancia a otro punto fijo, llamado centro, es menor o igual que una cantidad constante, llamada radio."
   ]
  },
  {
   "cell_type": "code",
   "execution_count": null,
   "metadata": {},
   "outputs": [],
   "source": [
    "def punto_pertenece_a_dos_cir(x1,y1,r1,x2,y2,r2,a,b):\n",
    "                                #formula de la circunferencia (a-x)**2+(b-y)**2=r**2\n",
    "                                #centro en(x,y)\n",
    "    per_cir=(a-x1)**2+(b-y1)**2 ; per_cir_2=(a-x2)**2+(b-y2)**2\n",
    "    rad1=r1**2                      ; rad2=r2**2\n",
    "    \n",
    "    return per_cir,rad1,rad2,per_cir_2\n",
    "while True:\n",
    "    try:\n",
    "        X1=float(input(\"Ingrese la coordenada X del circulo1 = \"))\n",
    "        Y1=float(input(\"Ingrese la coordenada Y del1 circulo = \"))\n",
    "        R1=float(input(\"Ingrese el radio del circulo1 = \"))\n",
    "        X2=float(input(\"Ingrese la coordenada X del circulo2 = \"))\n",
    "        Y2=float(input(\"Ingrese la coordenada Y del circulo2 = \"))\n",
    "        R2=float(input(\"Ingrese el radio del circulo2 = \"))\n",
    "        A=float(input(\"Ingrese la coordenada X a calcular = \"))\n",
    "        B=float(input(\"Ingrese la coordenada Y a calcular = \"))\n",
    "        break\n",
    "    except ValueError:\n",
    "        print(\"El caracter ingresado es incorrecto. Inténtelo de nuevo.\")\n",
    "\n",
    "per_cir,rad1,rad2,per_cir_2=punto_pertenece_a_dos_cir(X1,Y1,R1,X2,Y2,R2,A,B)\n",
    "if per_cir<=rad1 and per_cir<=rad2:\n",
    "    print(\"El punto pertenece a las dos circulos.\")\n",
    "elif per_cir<=rad1:\n",
    "    print(\"El punto pertenece al circulo1.\")\n",
    "elif per_cir_2<=rad2:\n",
    "    print(\"El punto pertenece al circulo2.\")\n",
    "else:\n",
    "    print(\"El punto no pertenece a ningun circulo.\")"
   ]
  },
  {
   "cell_type": "markdown",
   "metadata": {},
   "source": [
    "## CADENAS "
   ]
  },
  {
   "cell_type": "markdown",
   "metadata": {},
   "source": [
    "10. Sin utilizar el método .upper() para cadenas, escribir un programa que lea una cadena de texto y la imprima en\n",
    "mayúscula. Tenga en cuenta que el programa debe aceptar las letras con tilde, la ñ y la ü."
   ]
  },
  {
   "cell_type": "code",
   "execution_count": null,
   "metadata": {},
   "outputs": [],
   "source": [
    "mins=['a','á','b','c','d','e','é','f','g','h','i','í','j','k','l','m','n','ñ',\\\n",
    "      'o','ó','p','q','r','s','t','u','ú','ü','v','w','x','y','z']\n",
    "mays=['A','Á','B','C','D','E','É','F','G','H','I','Í','J','K','L','M','N','Ñ',\\\n",
    "      'O','Ó','P','Q','R','S','T','U','Ú','Ü','V','W','X','Y','Z']\n",
    "\n",
    "c=input('Ingrese el texto:')\n",
    "\n",
    "for i in c:\n",
    "    \n",
    "    if i not in mins:\n",
    "        y=i\n",
    "    \n",
    "    else: \n",
    "        x=mins.index(i)\n",
    "\n",
    "        y=mays[x]\n",
    "\n",
    "    print(y,end='')"
   ]
  },
  {
   "cell_type": "markdown",
   "metadata": {},
   "source": [
    "11. Escribir un programa que reciba una cadena de texto y reporte:\n",
    "a) cuántas letras vocales en mayúscula se entraron;\n",
    "b) cuántas letras con tilde se entraron (minúsculas y mayúsculas);\n",
    "c) cuántos dígitos se entraron,\n",
    "d) cuántos espacios se entraron;\n",
    "e) cuántas palabras reservadas se entraron."
   ]
  },
  {
   "cell_type": "code",
   "execution_count": null,
   "metadata": {},
   "outputs": [],
   "source": [
    "\n",
    "import keyword   #libreria para leer las palabras reservadas\n",
    "x=input('Escriba una cadena de texto:')\n",
    "\n",
    "v=['A','E','I','O','U','Á','É','Í','Ó','Ú']\n",
    "vt=['á','é','í','ó','ú','Á','É','Í','Ó','Ú']\n",
    "d=['1','2','3','4','5','6','7','8','9','0']\n",
    "e=(' ')\n",
    "\n",
    "l=x.split()\n",
    "#variables para sumar las cantidades\n",
    "cant_vocales=0\n",
    "cant_vocales_tilde=0\n",
    "cant_digitos=0\n",
    "cant_espacios=0\n",
    "cant_reservadas=0\n",
    "\n",
    "for i in range(len(l)):\n",
    "    aux=list(l[i])                      #determina la cantidad de letras, digitos o espacios\n",
    "    for j in range(len(aux)):\n",
    "        if aux[j] in v:\n",
    "            cant_vocales+=1\n",
    "        if aux[j] in vt:\n",
    "            cant_vocales_tilde+=1\n",
    "        if aux[j] in d:\n",
    "            cant_digitos+=1\n",
    "        if aux[j] in e:\n",
    "            cant_espacios+=1\n",
    "    if l[i] in keyword.kwlist:\n",
    "        cant_reservadas+=1\n",
    "                \n",
    "print('a)numero de vocales en mayuscula=', cant_vocales)\n",
    "print('b)numero de letras con tílde=', cant_vocales_tilde)\n",
    "print('c)numero de digitos=', cant_digitos)\n",
    "print('d)numero de espacios=', cant_espacios)\n",
    "print('e)numero de palabras reservadas=', cant_reservadas)\n",
    "    "
   ]
  },
  {
   "cell_type": "markdown",
   "metadata": {},
   "source": [
    "12. Hacer un programa que lea dos palabras (podrían estar en mayúscula o minúscula) y determine cual está primero en\n",
    "el diccionario. El programa debe soportar letras con tilde, la ü y la ñ."
   ]
  },
  {
   "cell_type": "code",
   "execution_count": null,
   "metadata": {},
   "outputs": [],
   "source": [
    "\n",
    "minus=['a','á','b','c','d','e','é','f','g','h','i','í','j','k','l','m','n','ñ',\n",
    "      'o','ó','p','q','r','s','t','u','ú','ü','v','w','x','y','z']\n",
    "mayus=['A','Á','B','C','D','E','É','F','G','H','I','Í','J','K','L','M','N','Ñ',\n",
    "      'O','Ó','P','Q','R','S','T','U','Ú','Ü','V','W','X','Y','Z']\n",
    "\n",
    "A=input('Digite la primera palabra:')\n",
    "B=input('Digite la segunda palabra:')\n",
    "\n",
    "y=[]\n",
    "z=[]\n",
    "w=[]\n",
    "x=[]\n",
    "\n",
    "for i in A:\n",
    "    if i in minus:\n",
    "        c=minus.index(i)\n",
    "        y.append(c)\n",
    "    \n",
    "    if i in mayus:\n",
    "        a=mayus.index(i)\n",
    "        y.append(a)\n",
    "\n",
    "for i in B:\n",
    "    if i in minus:\n",
    "        r=minus.index(i)\n",
    "        z.append(r)\n",
    "    \n",
    "    if i in mayus:\n",
    "        o=mayus.index(i)\n",
    "        z.append(o)\n",
    "        \n",
    "if y < z :\n",
    "    print('Esta primero en el diccionario:', A)\n",
    "else:\n",
    "    print('Esta primero en el diciconario:', B)\n",
    "    "
   ]
  },
  {
   "cell_type": "markdown",
   "metadata": {},
   "source": [
    "13. Escribir un programa que lea una cadena de texto y la imprima como un triángulo. Por ejemplo, si la cadena entrada es: \"Es una locura odiar a todas las rosas porque una te pinchó: renunciar a todos tus sueños porque uno de ellos no se realizó - El Principito\", el programa debe imprimir:\n",
    "            E\n",
    "           sun\n",
    "          alocu\n",
    "         raodiar\n",
    "        atodaslas\n",
    "       rosasporque\n",
    "      unatepinchó:r\n",
    "     enunciaratodost\n",
    "    ussueñosporqueuno\n",
    "    deellosnoserealizó-\n",
    "      ElPrincipito\n",
    "\n",
    "Observe que la última cadena queda centrada con respecto a la base del triángulo"
   ]
  },
  {
   "cell_type": "code",
   "execution_count": null,
   "metadata": {},
   "outputs": [],
   "source": [
    "\n",
    "import math\n",
    "#Función que permite leer una cadena\n",
    "def leer_cadena():\n",
    "    while True:\n",
    "        try:\n",
    "            cadena= (input(\"ingerese la cadena: \"))\n",
    "            if type(cadena) != str:\n",
    "                raise ValueError\n",
    "            break\n",
    "        except:\n",
    "            print(\"Oops... La cadena ingresada no es valida\")\n",
    "    return(cadena)\n",
    "\n",
    "\n",
    "\n",
    "\n",
    "cad= leer_cadena()                \n",
    "cad = cad.replace(\" \",\"\")             #De la cadena inicial eliminar los espacios.\n",
    "long= len(cad)\n",
    "filas= (len(cad)**(1/2))\n",
    "if filas - filas//1 !=0:\n",
    "    fila_mayor= math.ceil(filas -1)\n",
    "else:\n",
    "    fila_mayor= math.ceil(filas)\n",
    "filas= math.ceil(filas)\n",
    "\n",
    "for i in range (0,filas+1):    #Imprimir, centrando el arreglo con la fila que contiene mas elementos\n",
    "    print((cad[(i**2):((i+1)**2)]).center(fila_mayor*2))\n",
    "    "
   ]
  },
  {
   "cell_type": "markdown",
   "metadata": {},
   "source": [
    "## LISTAS"
   ]
  },
  {
   "cell_type": "markdown",
   "metadata": {},
   "source": [
    "15. Leer una lista de números enteros y enumerar cuantos elementos se repiten exactamente dos veces. Utilizar para tal\n",
    "fin el método count() de listas."
   ]
  },
  {
   "cell_type": "code",
   "execution_count": null,
   "metadata": {},
   "outputs": [],
   "source": [
    "a = int(input('ingrese el tamaño de la lista'))\n",
    "    \n",
    "lis= []\n",
    "num= []\n",
    "num1=[]\n",
    "\n",
    "for x in range(a):\n",
    "    numero=int(input(f\"Ingrese un valor entero{x+1}:\"))\n",
    "    lis.append(numero)\n",
    "    if numero<0:  \n",
    "        numero=abs(numero)\n",
    "        num.append(numero)\n",
    "            \n",
    "    elif numero>=0:\n",
    "             num1.append(numero)\n",
    "\n",
    "print(f'La lista ingresada es: {lis}')\n",
    "\n",
    "contador= 0\n",
    "\n",
    "\n",
    "for i in range(len(num)) :\n",
    "    a=num.count(i)\n",
    "    if a== 2:\n",
    "         contador = contador+1    \n",
    "         \n",
    "contador1=0\n",
    "for i in range(len(num1)) :\n",
    "    b=num1.count(i)\n",
    "    if b==2:\n",
    "         contador1 = contador1+1\n",
    "        \n",
    "total = contador+contador1\n",
    "    \n",
    "print(f'La cantidad de valores repetidos exactamente dos veces es: {total}')"
   ]
  },
  {
   "cell_type": "markdown",
   "metadata": {},
   "source": [
    "16. Leer una lista de números ya ordenados de forma ascendente y verificar que dicha lista está ordenada. Luego, leer un\n",
    "número e insertarlo en la lista en la posición que le corresponde a dicho número."
   ]
  },
  {
   "cell_type": "code",
   "execution_count": null,
   "metadata": {},
   "outputs": [],
   "source": [
    "a = int(input('ingrese el tamaño de la lista'))\n",
    "lis=[]\n",
    "for x in range(a):\n",
    "    numero=int(input(f\"Ingrese un valor entero{x+1}:\"))\n",
    "    lis.append(numero)\n",
    "   \n",
    "for i in range(a-1):\n",
    "    if lis[i]>lis[i+1]:\n",
    "       print(\"La lista no está en orden\")\n",
    "       break  \n",
    "    elif lis[i]<lis[i+1]:\n",
    "       print(lis)\n",
    "       print('La lista esta en orden')\n",
    "num1=int(input('Ingrese un número'))\n",
    "for i in range(a):\n",
    "   if lis[i]>=num1:\n",
    "        lis.insert(i,num1)\n",
    "        break\n",
    "\n",
    "if num1>max(lis):\n",
    "     lis.insert(a+1,num1)      \n",
    "     \n",
    "print(lis)"
   ]
  },
  {
   "cell_type": "markdown",
   "metadata": {},
   "source": [
    "17. Leer una lista y determinar cuál es el segundo elemento más grande de dicha lista. No utilice ningún tipo de algoritmo\n",
    "de ordenamiento para realizar este ejercicio."
   ]
  },
  {
   "cell_type": "code",
   "execution_count": null,
   "metadata": {},
   "outputs": [],
   "source": [
    "a = int(input('ingrese el tamaño de la lista'))\n",
    "lis=[]\n",
    "for x in range(a):\n",
    "    numero=int(input(f\"Ingrese un valor entero{x+1}:\"))\n",
    "    lis.append(numero)\n",
    "\n",
    "print(lis)\n",
    "\n",
    "b=lis.pop(lis.index(max(lis)))\n",
    "\n",
    "d=max(lis)\n",
    "\n",
    "print(f'el segundo valor mas grande es {d}')"
   ]
  }
 ],
 "metadata": {
  "kernelspec": {
   "display_name": "Python 3",
   "language": "python",
   "name": "python3"
  },
  "language_info": {
   "codemirror_mode": {
    "name": "ipython",
    "version": 3
   },
   "file_extension": ".py",
   "mimetype": "text/x-python",
   "name": "python",
   "nbconvert_exporter": "python",
   "pygments_lexer": "ipython3",
   "version": "3.7.3"
  }
 },
 "nbformat": 4,
 "nbformat_minor": 2
}
